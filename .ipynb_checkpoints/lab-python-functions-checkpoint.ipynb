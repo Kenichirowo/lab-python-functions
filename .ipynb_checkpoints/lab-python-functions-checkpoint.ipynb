{
 "cells": [
  {
   "cell_type": "markdown",
   "id": "25d7736c-ba17-4aff-b6bb-66eba20fbf4e",
   "metadata": {},
   "source": [
    "# Lab | Functions"
   ]
  },
  {
   "cell_type": "markdown",
   "id": "0c581062-8967-4d93-b06e-62833222f930",
   "metadata": {
    "tags": []
   },
   "source": [
    "## Exercise: Managing Customer Orders with Functions\n",
    "\n",
    "In the previous exercise, you improved the code for managing customer orders by using loops and flow control. Now, let's take it a step further and refactor the code by introducing functions.\n",
    "\n",
    "Follow the steps below to complete the exercise:\n",
    "\n",
    "1. Define a function named `initialize_inventory` that takes `products` as a parameter. Inside the function, implement the code for initializing the inventory dictionary using a loop and user input.\n",
    "\n",
    "2. Define a function named `get_customer_orders` that takes no parameters. Inside the function, implement the code for prompting the user to enter the product names using a loop. The function should return the `customer_orders` set.\n",
    "\n",
    "3. Define a function named `update_inventory` that takes `customer_orders` and `inventory` as parameters. Inside the function, implement the code for updating the inventory dictionary based on the customer orders.\n",
    "\n",
    "4. Define a function named `calculate_order_statistics` that takes `customer_orders` and `products` as parameters. Inside the function, implement the code for calculating the order statistics (total products ordered, and percentage of unique products ordered). The function should return these values.\n",
    "\n",
    "5. Define a function named `print_order_statistics` that takes `order_statistics` as a parameter. Inside the function, implement the code for printing the order statistics.\n",
    "\n",
    "6. Define a function named `print_updated_inventory` that takes `inventory` as a parameter. Inside the function, implement the code for printing the updated inventory.\n",
    "\n",
    "7. Call the functions in the appropriate sequence to execute the program and manage customer orders.\n",
    "\n",
    "Hints for functions:\n",
    "\n",
    "- Consider the input parameters required for each function and their return values.\n",
    "- Utilize function parameters and return values to transfer data between functions.\n",
    "- Test your functions individually to ensure they work correctly.\n",
    "\n",
    "\n"
   ]
  },
  {
   "cell_type": "markdown",
   "id": "6eec22ff-00d5-44d7-b5e7-7813b2fb4e82",
   "metadata": {},
   "source": [
    "1."
   ]
  },
  {
   "cell_type": "code",
   "execution_count": 3,
   "id": "50dccc3f-91e9-4867-9e49-065cdcc92ecf",
   "metadata": {},
   "outputs": [],
   "source": [
    "products = ['t-shirt', 'mug', 'hat', 'book', 'keychain']\n",
    "\n",
    "def initialize_inventory(products):\n",
    "    inventory = {}\n",
    "    for product in products:\n",
    "        quantity = input(f\"Enter the quantity for {product}: \")\n",
    "        inventory[product] = int(quantity)\n",
    "    return inventory"
   ]
  },
  {
   "cell_type": "code",
   "execution_count": 20,
   "id": "7053c6bd-e461-4d81-870b-3c60ea626980",
   "metadata": {},
   "outputs": [
    {
     "name": "stdout",
     "output_type": "stream",
     "text": [
      "{'t-shirt': 234, 'mug': 24332, 'hat': 342, 'book': 123, 'keychain': 423}\n"
     ]
    }
   ],
   "source": [
    "print(inventory)"
   ]
  },
  {
   "cell_type": "markdown",
   "id": "618a73d0-cc1b-454a-9391-34e865b2d22a",
   "metadata": {},
   "source": [
    "2."
   ]
  },
  {
   "cell_type": "code",
   "execution_count": 8,
   "id": "99607f9d-911c-4f44-b1c8-b7faee3618ea",
   "metadata": {},
   "outputs": [],
   "source": [
    "def get_customer_orders():\n",
    "    customer_orders = set()\n",
    "    keep_adding = True\n",
    "\n",
    "    while keep_adding:\n",
    "        product = inputt = input(\"Enter the name of a product you want to order (t-shirt, mug, hat, book, keychain): \")\n",
    "     # Check if the product is available and not already ordered\n",
    "        if product in products:\n",
    "            customer_orders.add(product)\n",
    "            print(f\"{product} added to your order.\")\n",
    "        else:\n",
    "            print(\"Invalid product. Please choose from the available options.\")\n",
    "    #once first product is ordered, lets add the loop to make sure that customer writes yes or no\n",
    "        while True: \n",
    "            question = input(\"Would you like to add another product? Please type 'yes' or 'no': \")\n",
    "            if question.lower() == \"no\":\n",
    "                keep_adding = False #changing keep_adding to False to stop the loop\n",
    "                break  # Exit the loop if the user says 'no'\n",
    "            elif question.lower() == \"yes\":\n",
    "                break  # Just break if 'yes', continue adding products\n",
    "            else:\n",
    "                print(\"Please type 'yes' or 'no'.\")  # Prompt again if neither\n",
    "    return customer_orders"
   ]
  },
  {
   "cell_type": "markdown",
   "id": "5951ef68-45db-4796-99c4-7ea0a14e7b14",
   "metadata": {},
   "source": [
    "3. "
   ]
  },
  {
   "cell_type": "code",
   "execution_count": 11,
   "id": "8dc7671a-2f8d-4496-9e2a-c8b56ac5ebbb",
   "metadata": {},
   "outputs": [],
   "source": [
    "def update_inventory(customer_orders,inventory):\n",
    "    for product in customer_orders:\n",
    "        if product in inventory:\n",
    "            inventory[product] -= 1  # Subtract 1 from the quantity of the ordered product\n",
    "    return inventory"
   ]
  },
  {
   "cell_type": "markdown",
   "id": "407db603-53b4-4dd7-87f1-23cb6cd444b8",
   "metadata": {},
   "source": [
    "4. "
   ]
  },
  {
   "cell_type": "code",
   "execution_count": 16,
   "id": "650ccb60-9797-432e-bd50-0d0e28de6872",
   "metadata": {},
   "outputs": [],
   "source": [
    "def calculate_order_statistics(customer_orders, products):\n",
    "    total_products_ordered = len(customer_orders)\n",
    "    total_unique_products = len(products)\n",
    "    unique_products_ordered = (total_products_ordered / total_unique_products * 100) if total_unique_products > 0 else 0\n",
    "    order_statistics = total_products_ordered, unique_products_ordered\n",
    "    return order_statistics"
   ]
  },
  {
   "cell_type": "markdown",
   "id": "b7fb32a5-a89b-4d41-b55e-88a2ba98f596",
   "metadata": {},
   "source": [
    "5. "
   ]
  },
  {
   "cell_type": "code",
   "execution_count": 17,
   "id": "eeea47f0-3217-47be-87a2-a4b204d3a0bd",
   "metadata": {},
   "outputs": [],
   "source": [
    "def print_order_statistics(order_statistics):\n",
    "   print(order_statistics)"
   ]
  },
  {
   "cell_type": "markdown",
   "id": "d1c26064-2086-4507-94ba-75b10b9c0d82",
   "metadata": {},
   "source": [
    "\n",
    "\n"
   ]
  },
  {
   "cell_type": "code",
   "execution_count": 28,
   "id": "4434d01f-b70f-48f7-a4aa-0beb748a4177",
   "metadata": {},
   "outputs": [],
   "source": [
    "def print_updated_inventory(inventory):\n",
    "    print(\"Updated inventory is: \")\n",
    "    print(inventory)"
   ]
  },
  {
   "cell_type": "markdown",
   "id": "0f92d935-c309-46ab-8bdd-1f6e2f48402f",
   "metadata": {},
   "source": [
    "7. Call the functions in the appropriate sequence to execute the program and manage customer orders."
   ]
  },
  {
   "cell_type": "code",
   "execution_count": null,
   "id": "da314e4d-816b-4d3b-945e-f0ed13a217e7",
   "metadata": {},
   "outputs": [],
   "source": []
  },
  {
   "cell_type": "code",
   "execution_count": 29,
   "id": "09237b98-4eeb-4e16-8c41-33661171ad5b",
   "metadata": {},
   "outputs": [
    {
     "name": "stdin",
     "output_type": "stream",
     "text": [
      "Enter the quantity for t-shirt:  10\n",
      "Enter the quantity for mug:  10\n",
      "Enter the quantity for hat:  10\n",
      "Enter the quantity for book:  10\n",
      "Enter the quantity for keychain:  10\n"
     ]
    },
    {
     "name": "stdout",
     "output_type": "stream",
     "text": [
      "Initial inventory: {'t-shirt': 10, 'mug': 10, 'hat': 10, 'book': 10, 'keychain': 10}\n"
     ]
    },
    {
     "name": "stdin",
     "output_type": "stream",
     "text": [
      "Enter the name of a product you want to order (t-shirt, mug, hat, book, keychain):  mug\n"
     ]
    },
    {
     "name": "stdout",
     "output_type": "stream",
     "text": [
      "mug added to your order.\n"
     ]
    },
    {
     "name": "stdin",
     "output_type": "stream",
     "text": [
      "Would you like to add another product? Please type 'yes' or 'no':  yes\n",
      "Enter the name of a product you want to order (t-shirt, mug, hat, book, keychain):  book\n"
     ]
    },
    {
     "name": "stdout",
     "output_type": "stream",
     "text": [
      "book added to your order.\n"
     ]
    },
    {
     "name": "stdin",
     "output_type": "stream",
     "text": [
      "Would you like to add another product? Please type 'yes' or 'no':  no\n"
     ]
    },
    {
     "name": "stdout",
     "output_type": "stream",
     "text": [
      "Customer orders: {'book', 'mug'}\n",
      "Updated inventory is: \n",
      "{'t-shirt': 10, 'mug': 9, 'hat': 10, 'book': 9, 'keychain': 10}\n"
     ]
    }
   ],
   "source": [
    "products = ['t-shirt', 'mug', 'hat', 'book', 'keychain']\n",
    "\n",
    "# Step 1: Initialize the inventory\n",
    "inventory = initialize_inventory(products)\n",
    "print(\"Initial inventory:\", inventory)\n",
    "\n",
    "# Step 2: Get customer orders\n",
    "customer_orders = get_customer_orders()\n",
    "print(\"Customer orders:\", customer_orders)\n",
    "\n",
    "# Step 3: Update inventory based on customer orders\n",
    "updated_inventory = update_inventory(customer_orders, inventory)\n",
    "\n",
    "#let's use the print_updated_inventory too! :)\n",
    "print_updated_inventory(updated_inventory)"
   ]
  },
  {
   "cell_type": "code",
   "execution_count": null,
   "id": "89f972e2-bb94-4348-bba7-caead04fb755",
   "metadata": {},
   "outputs": [],
   "source": []
  }
 ],
 "metadata": {
  "kernelspec": {
   "display_name": "Python 3 (ipykernel)",
   "language": "python",
   "name": "python3"
  },
  "language_info": {
   "codemirror_mode": {
    "name": "ipython",
    "version": 3
   },
   "file_extension": ".py",
   "mimetype": "text/x-python",
   "name": "python",
   "nbconvert_exporter": "python",
   "pygments_lexer": "ipython3",
   "version": "3.12.7"
  }
 },
 "nbformat": 4,
 "nbformat_minor": 5
}
